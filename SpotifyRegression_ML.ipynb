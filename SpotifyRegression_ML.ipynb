{
  "nbformat": 4,
  "nbformat_minor": 0,
  "metadata": {
    "colab": {
      "provenance": []
    },
    "kernelspec": {
      "name": "python3",
      "display_name": "Python 3"
    },
    "language_info": {
      "name": "python"
    }
  },
  "cells": [
    {
      "cell_type": "markdown",
      "source": [
        "# Team 12\n",
        "Nidhin Pramod 202294678      \n",
        "Rahul Raghunathan Nair - 202280100          \n",
        "Yen-Ting Lin - 202259842                \n",
        "Rahul Nurukurthi - 202270308            \n",
        "Richaben Ankurkumar Patel - 202289339\n"
      ],
      "metadata": {
        "id": "65WToPVV7OZo"
      }
    },
    {
      "cell_type": "markdown",
      "source": [
        "#Introduction\n",
        "\n",
        "This notebook includes a brief analysis of the solution/approach used to predict the popularity of a title from the Spotify dataset **(Regression problem)**. It describes in detail the data visualisation, processing, model building techniques. It also includes prediction results and the comparison and observation between the training and test data RMSEs. Finally, we have also included justification for the approach taken in this notebook with brief details about the trial and error phase with different approaches."
      ],
      "metadata": {
        "id": "eCF2LDD69WDu"
      }
    },
    {
      "cell_type": "markdown",
      "source": [
        "# Libraries and initializations"
      ],
      "metadata": {
        "id": "NT6LEsZ6xsPt"
      }
    },
    {
      "cell_type": "markdown",
      "source": [
        "###File upload for colab"
      ],
      "metadata": {
        "id": "LC5U5Bhext5x"
      }
    },
    {
      "cell_type": "code",
      "execution_count": null,
      "metadata": {
        "id": "DIVxKt8hxqA0"
      },
      "outputs": [],
      "source": [
        "#Colab library for files I/O\n",
        "from google.colab import files\n",
        "\n",
        "uploaded = files.upload()"
      ]
    },
    {
      "cell_type": "code",
      "source": [
        "#Library for mathematical computation\n",
        "import numpy as np \n",
        "import pandas as pd \n",
        "\n",
        "#Library for Data Visualization\n",
        "import seaborn as sns\n",
        "import matplotlib.pyplot as plt\n",
        "from matplotlib.pyplot import figure\n",
        "import plotly.express as px\n",
        "\n",
        "%matplotlib inline\n",
        "\n",
        "#Library for modelling\n",
        "from sklearn.preprocessing import OneHotEncoder\n",
        "from sklearn.model_selection import train_test_split\n",
        "from sklearn.svm import LinearSVR\n",
        "from sklearn.metrics import mean_squared_error\n",
        "from sklearn.ensemble import AdaBoostRegressor\n",
        "from sklearn.tree import DecisionTreeRegressor\n",
        "from sklearn.ensemble import RandomForestRegressor\n",
        "from sklearn.svm import SVR\n",
        "from sklearn.linear_model import LinearRegression\n",
        "from sklearn.model_selection import KFold \n",
        "from sklearn.metrics import accuracy_score\n",
        "from sklearn.linear_model import SGDRegressor\n",
        "from sklearn.preprocessing import MinMaxScaler\n",
        "from sklearn.ensemble import GradientBoostingRegressor\n",
        "from sklearn.ensemble import StackingRegressor\n",
        "\n",
        "#load both training and test datasets\n",
        "df_train = pd.read_csv('CS98XRegressionTrain.csv')\n",
        "df_test= pd.read_csv('CS98XRegressionTest.csv')"
      ],
      "metadata": {
        "id": "shis6U4tx257"
      },
      "execution_count": null,
      "outputs": []
    },
    {
      "cell_type": "markdown",
      "source": [
        "## Combine both datasets to form one single dataframe"
      ],
      "metadata": {
        "id": "CQdcudeNyCXV"
      }
    },
    {
      "cell_type": "markdown",
      "source": [
        "We are combining the training and test datasets because there are certain genres and artists present in the test dataset that never appear in the training data.\n",
        "This leads to inconsistency in the number of columns when these categorical labels are encoded using One Hot Encoding. Combining the datasets and \n",
        "transforming the whole dataset using the same One Hot encoder solves this problem."
      ],
      "metadata": {
        "id": "EtZ4VoMzAvbb"
      }
    },
    {
      "cell_type": "code",
      "source": [
        "df = pd.concat(objs=[df_train, df_test], axis=0)"
      ],
      "metadata": {
        "id": "3Y7ZJ0LyyDxI"
      },
      "execution_count": null,
      "outputs": []
    },
    {
      "cell_type": "markdown",
      "source": [
        "# Exploring data"
      ],
      "metadata": {
        "id": "LsqN5EubyJf2"
      }
    },
    {
      "cell_type": "markdown",
      "source": [
        "This dataset has 15 columns with 16 null values in the 'top genre' column. It has 3 categorical columns 'title', 'top genre' and 'artist'."
      ],
      "metadata": {
        "id": "zDD3k5-s_LMY"
      }
    },
    {
      "cell_type": "code",
      "source": [
        "#Understanding the data\n",
        "print(df.shape)\n",
        "print(df.head(2))\n",
        "# Check the number of null values in each column of dataset\n",
        "for rec in df.columns:\n",
        "    print(rec,df[rec].isna().sum())"
      ],
      "metadata": {
        "colab": {
          "base_uri": "https://localhost:8080/"
        },
        "id": "OtTAn0eKyLee",
        "outputId": "8df232e8-08bb-4bc4-d79c-39405d55ea45"
      },
      "execution_count": null,
      "outputs": [
        {
          "output_type": "stream",
          "name": "stdout",
          "text": [
            "(567, 15)\n",
            "   Id             title           artist        top genre  year  bpm  nrgy  \\\n",
            "0   1      My Happiness   Connie Francis  adult standards  1996  107    31   \n",
            "1   2  Unchained Melody  The Teddy Bears              NaN  2011  114    44   \n",
            "\n",
            "   dnce  dB  live  val  dur  acous  spch   pop  \n",
            "0    45  -8    13   28  150     75     3  44.0  \n",
            "1    53  -8    13   47  139     49     3  37.0  \n",
            "Id 0\n",
            "title 0\n",
            "artist 0\n",
            "top genre 16\n",
            "year 0\n",
            "bpm 0\n",
            "nrgy 0\n",
            "dnce 0\n",
            "dB 0\n",
            "live 0\n",
            "val 0\n",
            "dur 0\n",
            "acous 0\n",
            "spch 0\n",
            "pop 114\n"
          ]
        }
      ]
    },
    {
      "cell_type": "markdown",
      "source": [
        "#Visualising the data "
      ],
      "metadata": {
        "id": "9qnaanGAymXN"
      }
    },
    {
      "cell_type": "markdown",
      "source": [
        "Here the predictor column i.e 'pop' is ploted on the graph to see how it progresses throughout the dataset. This curve will again be ploted with the predictions to determine visually how accurate the model is."
      ],
      "metadata": {
        "id": "FgQmC1D6ABwy"
      }
    },
    {
      "cell_type": "code",
      "source": [
        "fig = px.line(df_train.drop(['Id'],axis=1), x= range(0,df_train.shape[0]), y = sorted(df_train['pop']),\n",
        "             hover_name = \"title\",hover_data= ['artist', 'top genre'])\n",
        "fig.update_layout(title= 'Popularity sorted', \n",
        "                  xaxis =dict(title='Song index'),\n",
        "                  yaxis =dict(title='pop'))\n",
        "fig.show()"
      ],
      "metadata": {
        "colab": {
          "base_uri": "https://localhost:8080/",
          "height": 542
        },
        "id": "rwodxIARyq8l",
        "outputId": "3b5fda0f-ee20-4f01-9a59-978149fcfc80"
      },
      "execution_count": null,
      "outputs": [
        {
          "output_type": "display_data",
          "data": {
            "text/html": [
              "<html>\n",
              "<head><meta charset=\"utf-8\" /></head>\n",
              "<body>\n",
              "    <div>            <script src=\"https://cdnjs.cloudflare.com/ajax/libs/mathjax/2.7.5/MathJax.js?config=TeX-AMS-MML_SVG\"></script><script type=\"text/javascript\">if (window.MathJax) {MathJax.Hub.Config({SVG: {font: \"STIX-Web\"}});}</script>                <script type=\"text/javascript\">window.PlotlyConfig = {MathJaxConfig: 'local'};</script>\n",
              "        <script src=\"https://cdn.plot.ly/plotly-2.8.3.min.js\"></script>                <div id=\"c6fade4f-4a19-4b11-899c-4d4c31d292c5\" class=\"plotly-graph-div\" style=\"height:525px; width:100%;\"></div>            <script type=\"text/javascript\">                                    window.PLOTLYENV=window.PLOTLYENV || {};                                    if (document.getElementById(\"c6fade4f-4a19-4b11-899c-4d4c31d292c5\")) {                    Plotly.newPlot(                        \"c6fade4f-4a19-4b11-899c-4d4c31d292c5\",                        [{\"customdata\":[[\"Connie Francis\",\"adult standards\"],[\"The Teddy Bears\",null],[\"Bee Gees\",\"adult standards\"],[\"Barbra Streisand\",\"adult standards\"],[\"Elton John\",\"glam rock\"],[\"Bruno Mars\",\"pop\"],[\"The Guess Who\",\"album rock\"],[\"Boyz II Men\",\"boy band\"],[\"Joan Regan\",null],[\"Timi Yuro\",\"adult standards\"],[\"Blue\",\"boy band\"],[\"Elton John\",\"glam rock\"],[\"The Beau Brummels\",\"brill building pop\"],[\"Adam Faith\",\"brill building pop\"],[\"Bruce Channel\",\"rock-and-roll\"],[\"The Box Tops\",\"brill building pop\"],[\"Emmylou Harris\",\"country rock\"],[\"C\\u00c3\\u00a9line Dion\",\"canadian pop\"],[\"The Yardbirds\",\"album rock\"],[\"Ne-Yo\",\"dance pop\"],[\"Queen\",\"glam rock\"],[\"Peter Cetera\",\"adult standards\"],[\"Roxette\",\"europop\"],[\"East 17\",\"boy band\"],[\"Mary Lou Williams\",\"bebop\"],[\"Ultravox\",\"art rock\"],[\"Green Martini Keys\",null],[\"George McCrae\",\"disco\"],[\"Dr. John\",\"blues\"],[\"Def Leppard\",\"album rock\"],[\"Miley Cyrus\",\"dance pop\"],[\"Mariah Carey\",\"dance pop\"],[\"Gloria Gaynor\",\"disco\"],[\"Rihanna\",\"barbadian pop\"],[\"Elvis Presley\",\"adult standards\"],[\"Tab Hunter\",\"deep adult standards\"],[\"Monica\",\"dance pop\"],[\"T. Rex\",\"album rock\"],[\"Timbaland\",\"dance pop\"],[\"ABBA\",\"europop\"],[\"Diana Ross\",\"adult standards\"],[\"C\\u00c3\\u00a9line Dion\",\"canadian pop\"],[\"Bobby Vee\",\"adult standards\"],[\"Destiny's Child\",\"dance pop\"],[\"Ultra Nat\\u00c3\\u00a9\",\"deep house\"],[\"Dire Straits\",\"album rock\"],[\"Bobby Vee\",\"adult standards\"],[\"Soulja Boy\",\"atl hip hop\"],[\"Bronski Beat\",\"dance rock\"],[\"Owl City\",\"pop\"],[\"Robin S\",\"disco house\"],[\"Maxx\",\"bubblegum dance\"],[\"The O'Jays\",\"classic soul\"],[\"Chicago\",\"adult standards\"],[\"Def Leppard\",\"album rock\"],[\"Craig Douglas\",\"brill building pop\"],[\"Steely Dan\",\"album rock\"],[\"Tommy Steele\",\"classic uk pop\"],[\"Laura Branigan\",\"dance rock\"],[\"The Notorious B.I.G.\",\"east coast hip hop\"],[\"Traveling Wilburys\",\"album rock\"],[\"Smokie\",\"classic uk pop\"],[\"The Black Eyed Peas\",\"dance pop\"],[\"The Chords\",\"doo-wop\"],[\"Elton John\",\"glam rock\"],[\"Ginuwine\",\"dance pop\"],[\"Jennifer Lopez\",\"dance pop\"],[\"Sammy Davis Jr.\",\"adult standards\"],[\"James Darren\",\"adult standards\"],[\"TLC\",\"atl hip hop\"],[\"John Denver\",\"adult standards\"],[\"Electric Light Orchestra\",\"album rock\"],[\"Ike Carpenter Orchestra\",null],[\"Roy Orbison\",\"adult standards\"],[\"Sean Paul\",\"dance pop\"],[\"Oasis\",\"britpop\"],[\"The Band\",\"album rock\"],[\"Gerry & The Pacemakers\",\"adult standards\"],[\"Georgie Fame\",\"british blues\"],[\"Kevin Rudolf\",\"dance pop\"],[\"Donovan\",\"art rock\"],[\"The Hilltoppers\",\"deep adult standards\"],[\"Kim Wilde\",\"dance pop\"],[\"Tommy Roe\",\"adult standards\"],[\"Player\",\"soft rock\"],[\"Michael Jackson\",\"pop\"],[\"Akon\",\"dance pop\"],[\"Joey Dee\",\"australian talent show\"],[\"Scott Walker\",\"art pop\"],[\"Alphaville\",\"dance rock\"],[\"Jayne Mansfield\",null],[\"Mike Posner\",\"dance pop\"],[\"Leona Lewis\",\"british soul\"],[\"Wayne Fontana & The Mindbenders\",\"british invasion\"],[\"Tears For Fears\",\"dance rock\"],[\"Johnny Maestro\",\"brill building pop\"],[\"Paul Anka\",\"adult standards\"],[\"Eagles\",\"album rock\"],[\"Mel Torme & the Mel-Tones\",null],[\"Elton John\",\"glam rock\"],[\"Wamdue Project\",\"disco house\"],[\"John Mellencamp\",\"album rock\"],[\"Status Quo\",\"album rock\"],[\"The Platters\",\"adult standards\"],[\"The Yardbirds\",\"album rock\"],[\"The Turtles\",\"brill building pop\"],[\"Alice DJ\",\"europop\"],[\"Frank Sinatra\",\"adult standards\"],[\"Stromae\",\"belgian pop\"],[\"Axwell\",\"big room\"],[\"Taio Cruz\",\"dance pop\"],[\"Paradisio\",\"bubblegum dance\"],[\"ATB\",\"german dance\"],[\"Emmylou Harris\",\"country rock\"],[\"Eros Ramazzotti\",\"italian pop\"],[\"Billy Joel\",\"album rock\"],[\"Shirley & Dolly Collins\",\"british folk\"],[\"Beyonc\\u00c3\\u00a9\",\"dance pop\"],[\"Nat King Cole\",\"adult standards\"],[\"Elton John\",\"glam rock\"],[\"The Temprees\",\"classic soul\"],[\"Cher\",\"dance pop\"],[\"Christopher Cross\",\"adult standards\"],[\"Kate Bush\",\"art pop\"],[\"The Real Thing\",\"brit funk\"],[\"Donna Summer\",\"dance pop\"],[\"Curtis Mayfield\",\"chicago soul\"],[\"Bryan Adams\",\"album rock\"],[\"Sister Sledge\",\"dance pop\"],[\"James Morrison\",\"neo mellow\"],[\"Nik Kershaw\",\"dance rock\"],[\"Tommy Edwards\",\"deep adult standards\"],[\"Craig David\",\"british soul\"],[\"Eagles\",\"album rock\"],[\"Dean Martin\",\"adult standards\"],[\"Dean Martin\",\"adult standards\"],[\"Enrique Iglesias\",\"dance pop\"],[\"Steve Winwood\",\"album rock\"],[\"ABBA\",\"europop\"],[\"Joe Cocker\",\"album rock\"],[\"Harpo\",\"classic uk pop\"],[\"Johnny Tillotson\",\"adult standards\"],[\"Robbie Williams\",\"dance pop\"],[\"Dionne Warwick\",\"adult standards\"],[\"Max Bygraves\",\"british comedy\"],[\"East 17\",\"boy band\"],[\"Boney M.\",\"disco\"],[\"Queen\",\"glam rock\"],[\"Lil Wayne\",\"hip hop\"],[\"Tiffany\",\"new wave pop\"],[\"Steve Winwood\",\"album rock\"],[\"Barbra Streisand\",\"adult standards\"],[\"Double You\",\"eurodance\"],[\"Diddy\",\"dance pop\"],[\"Dire Straits\",\"album rock\"],[\"The Byrds\",\"art rock\"],[\"The Kinks\",\"album rock\"],[\"Roy Orbison\",\"adult standards\"],[\"UFO\",\"album rock\"],[\"Madonna\",\"dance pop\"],[\"Van Halen\",\"album rock\"],[\"Paul Young\",\"album rock\"],[\"Queen\",\"glam rock\"],[\"Keri Hilson\",\"dance pop\"],[\"Four Tops\",\"adult standards\"],[\"La Bouche\",\"bubblegum dance\"],[\"Corona\",\"bubblegum dance\"],[\"Billy Idol\",\"album rock\"],[\"White Lion\",\"album rock\"],[\"Eminem\",\"detroit hip hop\"],[\"The Tremeloes\",\"adult standards\"],[\"Bruce Springsteen\",\"classic rock\"],[\"Led Zeppelin\",\"album rock\"],[\"King Harvest\",\"soft rock\"],[\"Jan & Dean\",\"brill building pop\"],[\"Ella Fitzgerald\",\"adult standards\"],[\"Irene Cara\",\"dance rock\"],[\"Carpenters\",\"adult standards\"],[\"Rihanna\",\"barbadian pop\"],[\"The Who\",\"album rock\"],[\"The Black Eyed Peas\",\"dance pop\"],[\"Thelonious Monk\",\"bebop\"],[\"Queen\",\"glam rock\"],[\"Mariah Carey\",\"dance pop\"],[\"Artful Dodger\",\"uk garage\"],[\"The Zombies\",\"art rock\"],[\"John Lennon\",\"album rock\"],[\"B2K\",\"boy band\"],[\"Kesha\",\"dance pop\"],[\"Rainbow\",\"album rock\"],[\"ABBA\",\"europop\"],[\"Neil Sedaka\",\"adult standards\"],[\"Shontelle\",\"barbadian pop\"],[\"Van Morrison\",\"classic rock\"],[\"Vengaboys\",\"bubblegum dance\"],[\"The Meters\",\"afrobeat\"],[\"Rihanna\",\"barbadian pop\"],[\"Neil Diamond\",\"adult standards\"],[\"Donny Hathaway\",\"chicago soul\"],[\"Looking Glass\",\"soft rock\"],[\"Taylor Swift\",\"dance pop\"],[\"Doris Day\",\"adult standards\"],[\"Sean Kingston\",\"dance pop\"],[\"David Guetta\",\"dance pop\"],[\"Estelle\",\"r&b\"],[\"Kanye West\",\"chicago rap\"],[\"Elton John\",\"glam rock\"],[\"Marvin Gaye\",\"classic soul\"],[\"Bryan Adams\",\"album rock\"],[\"ABBA\",\"europop\"],[\"George Harrison\",\"album rock\"],[\"Foreigner\",\"album rock\"],[\"Laura Branigan\",\"dance rock\"],[\"Laid Back\",\"classic danish pop\"],[\"Boney M.\",\"disco\"],[\"Anne Shelton\",\"british dance band\"],[\"Tina Turner\",\"disco\"],[\"Rod Stewart\",\"adult standards\"],[\"Teresa Brewer\",\"adult standards\"],[\"The Five Keys\",\"doo-wop\"],[\"The Teddy Bears\",null],[\"Gala\",\"eurodance\"],[\"John Fahey\",\"drone folk\"],[\"The Marshall Tucker Band\",\"album rock\"],[\"Elvis Presley\",\"adult standards\"],[\"The Fleetwoods\",\"adult standards\"],[\"The Band\",\"album rock\"],[\"Boyzone\",\"boy band\"],[\"Modern Talking\",\"eurodance\"],[\"Coldplay\",\"permanent wave\"],[\"Bryan Adams\",\"album rock\"],[\"Frankie Vaughan\",\"merseybeat\"],[\"Irene Cara\",\"dance rock\"],[\"ABBA\",\"europop\"],[\"Coldplay\",\"permanent wave\"],[\"DeBarge\",\"disco\"],[\"Coolio\",\"g funk\"],[\"Them\",\"blues rock\"],[\"Mariah Carey\",\"dance pop\"],[\"Elton John\",\"glam rock\"],[\"Modern Talking\",\"eurodance\"],[\"Kanye West\",\"chicago rap\"],[\"The Tornados\",\"british invasion\"],[\"Glenn Medeiros\",\"soft rock\"],[\"Brandy\",\"dance pop\"],[\"Belinda Carlisle\",\"dance pop\"],[\"Jamelia\",\"europop\"],[\"Whitney Houston\",\"dance pop\"],[\"Diana Ross\",\"adult standards\"],[\"Ricky Nelson\",\"adult standards\"],[\"Yusuf / Cat Stevens\",\"british folk\"],[\"David Whitfield\",\"deep adult standards\"],[\"Suzi Miller And Johnson Brothers\",null],[\"Queen\",\"glam rock\"],[\"Busta Rhymes\",\"east coast hip hop\"],[\"Elton John\",\"glam rock\"],[\"The Script\",\"celtic rock\"],[\"Queen\",\"glam rock\"],[\"Frankie Valli\",\"adult standards\"],[\"Christina Aguilera\",\"dance pop\"],[\"Gabrielle\",\"british soul\"],[\"Dexys Midnight Runners\",\"bow pop\"],[\"Duke Ellington\",\"adult standards\"],[\"TOTO\",\"album rock\"],[\"Jimmy Ruffin\",\"brill building pop\"],[\"Terry Dene\",null],[\"Ten Sharp\",null],[\"Paul Revere & The Raiders\",\"brill building pop\"],[\"Bread\",\"adult standards\"],[\"Wham!\",\"dance rock\"],[\"The Easybeats\",\"australian rock\"],[\"LL Cool J\",\"east coast hip hop\"],[\"The Beatles\",\"british invasion\"],[\"Eddie Palmieri\",\"boogaloo\"],[\"The Who\",\"album rock\"],[\"Mark Morrison\",\"british soul\"],[\"Mariah Carey\",\"dance pop\"],[\"Rihanna\",\"barbadian pop\"],[\"Nickelback\",\"alternative metal\"],[\"KISS\",\"album rock\"],[\"The Marvelettes\",\"brill building pop\"],[\"The Cascades\",\"adult standards\"],[\"Lasgo\",\"belgian dance\"],[\"Bon Jovi\",\"glam metal\"],[\"Bon Jovi\",\"glam metal\"],[\"Whitney Houston\",\"dance pop\"],[\"Daddy Yankee\",\"latin\"],[\"The Beatles\",\"british invasion\"],[\"The Fleetwoods\",\"adult standards\"],[\"George Michael\",\"new wave pop\"],[\"KISS\",\"album rock\"],[\"The Weather Girls\",\"disco\"],[\"Helen Shapiro\",\"adult standards\"],[\"Survivor\",\"album rock\"],[\"Queen\",\"glam rock\"],[\"Jefferson Airplane\",\"art rock\"],[\"Ricky Nelson\",\"adult standards\"],[\"The Beach Boys\",\"baroque pop\"],[\"Technotronic\",\"eurodance\"],[\"Barbra Streisand\",\"adult standards\"],[\"Mario\",\"dance pop\"],[\"Gigi D'Agostino\",\"eurodance\"],[\"Backstreet Boys\",\"boy band\"],[\"Iyaz\",\"dance pop\"],[\"The Rolling Stones\",\"album rock\"],[\"U96\",\"bubble trance\"],[\"Marty Wilde\",\"brill building pop\"],[\"John Parr\",\"album rock\"],[\"Joni Mitchell\",\"canadian folk\"],[\"The Black Eyed Peas\",\"dance pop\"],[\"Madonna\",\"dance pop\"],[\"Frankie Vaughan\",\"merseybeat\"],[\"Cream\",\"album rock\"],[\"Gladys Knight & The Pips\",\"adult standards\"],[\"Bob Sharples & His Music\",null],[\"The Fleetwoods\",\"adult standards\"],[\"Small Faces\",\"art rock\"],[\"Dionne Warwick\",\"adult standards\"],[\"ABBA\",\"europop\"],[\"Suzi Quatro\",\"classic uk pop\"],[\"Fred Neil\",\"american folk revival\"],[\"Fergie\",\"dance pop\"],[\"Simply Red\",\"british soul\"],[\"The Bellamy Brothers\",\"country\"],[\"David Bowie\",\"album rock\"],[\"David Bowie\",\"album rock\"],[\"Louis Prima\",\"adult standards\"],[\"Fran\\u00e7oise Hardy\",\"chanson\"],[\"Christopher Cross\",\"adult standards\"],[\"Culture Beat\",\"bubblegum dance\"],[\"Anthony Newley\",null],[\"Eminem\",\"detroit hip hop\"],[\"Brandy\",\"dance pop\"],[\"Al Martino\",\"adult standards\"],[\"Love Affair\",\"bubblegum pop\"],[\"The Police\",\"album rock\"],[\"Usher\",\"atl hip hop\"],[\"The Beatles\",\"british invasion\"],[\"Fran\\u00e7oise Hardy\",\"chanson\"],[\"KISS\",\"album rock\"],[\"David Guetta\",\"dance pop\"],[\"Youngbloodz\",\"atl hip hop\"],[\"Eric Prydz\",\"big room\"],[\"Diana Ross & The Supremes\",\"classic girl group\"],[\"Billy Eckstine\",\"adult standards\"],[\"Roxette\",\"europop\"],[\"Whitney Houston\",\"dance pop\"],[\"The Five Satins\",\"brill building pop\"],[\"Leo Sayer\",\"adult standards\"],[\"Boyzone\",\"boy band\"],[\"Jimmy Rodgers\",\"yodeling\"],[\"Alice Coltrane\",\"afropop\"],[\"Bobby Vee\",\"adult standards\"],[\"Flo Rida\",\"dance pop\"],[\"Roxette\",\"europop\"],[\"Genesis\",\"album rock\"],[\"The Crew Cuts\",\"doo-wop\"],[\"Rusty Draper\",\"deep adult standards\"],[\"T.I.\",\"atl hip hop\"],[\"Gerry & The Pacemakers\",\"adult standards\"],[\"Michael Sembello\",\"hi-nrg\"],[\"Backstreet Boys\",\"boy band\"],[\"Stargazers\",null],[\"The Beatles\",\"british invasion\"],[\"Bruno Mars\",\"pop\"],[\"The Foundations\",\"brill building pop\"],[\"Gareth Gates\",\"europop\"],[\"Clarence \\\"Frogman\\\" Henry\",\"louisiana blues\"],[\"Alicia Keys\",\"hip pop\"],[\"Fleetwood Mac\",\"album rock\"],[\"The Beatles\",\"british invasion\"],[\"Lighthouse Family\",\"europop\"],[\"Richard Marx\",\"mellow gold\"],[\"Modjo\",\"disco house\"],[\"Elton John\",\"glam rock\"],[\"The Doobie Brothers\",\"album rock\"],[\"Mariah Carey\",\"dance pop\"],[\"Thin Lizzy\",\"album rock\"],[\"Robert John\",\"soft rock\"],[\"Whitney Houston\",\"dance pop\"],[\"Lutricia McNeal\",null],[\"The Spinners\",\"classic soul\"],[\"50 Cent\",\"east coast hip hop\"],[\"Billy Ocean\",\"dance rock\"],[\"Duran Duran\",\"dance rock\"],[\"Charles Mingus\",\"avant-garde jazz\"],[\"Michael Jackson\",\"pop\"],[\"David Archuleta\",\"dance pop\"],[\"Simple Minds\",\"art rock\"],[\"Buffalo Springfield\",\"blues rock\"],[\"Bachman-Turner Overdrive\",\"album rock\"],[\"Marvin Gaye\",\"classic soul\"],[\"Afrika Bambaataa\",\"bronx hip hop\"],[\"Whitesnake\",\"album rock\"],[\"Peabo Bryson\",\"adult standards\"],[\"Katy Perry\",\"dance pop\"],[\"Cutting Crew\",\"album rock\"],[\"Craig Douglas\",\"brill building pop\"],[\"The Beatles\",\"british invasion\"],[\"Usher\",\"atl hip hop\"],[\"Jimmy Young\",\"deep adult standards\"],[\"Joan Jett & The Blackhearts\",\"glam punk\"],[\"Pitbull\",\"dance pop\"],[\"Paul Anka\",\"adult standards\"],[\"Yazoo\",\"dance rock\"],[\"Ciara\",\"dance pop\"],[\"Firehouse\",\"album rock\"],[\"Uriah Heep\",\"album rock\"],[\"Frank Sinatra\",\"adult standards\"],[\"Neil Young\",\"album rock\"],[\"Frank Sinatra\",\"adult standards\"],[\"Taio Cruz\",\"dance pop\"],[\"Whitney Houston\",\"dance pop\"],[\"Spandau Ballet\",\"dance rock\"],[\"Liquido\",\"german alternative rock\"],[\"Madonna\",\"dance pop\"],[\"ZZ Top\",\"album rock\"],[\"Snoop Dogg\",\"g funk\"],[\"Lil Wayne\",\"hip hop\"],[\"Rick Springfield\",\"album rock\"],[\"Bobby Freeman\",\"doo-wop\"],[\"Taylor Swift\",\"dance pop\"],[\"Taylor Swift\",\"dance pop\"],[\"Pink Floyd\",\"album rock\"],[\"Eric Carmen\",\"adult standards\"],[\"The Script\",\"celtic rock\"],[\"Luniz\",\"g funk\"],[\"Linkin Park\",\"alternative metal\"],[\"The Marshall Tucker Band\",\"album rock\"],[\"ABBA\",\"europop\"],[\"The Guess Who\",\"album rock\"],[\"Terror Squad\",\"bronx hip hop\"],[\"Kate Ryan\",\"belgian pop\"],[\"Taj Mahal\",\"acoustic blues\"],[\"Bobby Goldsboro\",\"adult standards\"],[\"Captain Hollywood Project\",\"bubblegum dance\"],[\"Taylor Swift\",\"dance pop\"],[\"New Order\",\"alternative rock\"],[\"The Rolling Stones\",\"album rock\"],[\"Pat Boone\",\"adult standards\"],[\"Britney Spears\",\"dance pop\"],[\"Matthew Wilder\",\"new wave pop\"],[\"Donna Summer\",\"dance pop\"],[\"Nick Kamen\",null],[\"The Searchers\",\"adult standards\"],[\"Rihanna\",\"barbadian pop\"],[\"Frankie Valli & The Four Seasons\",\"adult standards\"],[\"Peter And Gordon\",\"brill building pop\"],[\"Ella Fitzgerald\",\"adult standards\"],[\"Jan & Dean\",\"brill building pop\"],[\"Nelly\",\"dance pop\"],[\"*NSYNC\",\"boy band\"],[\"Status Quo\",\"album rock\"]],\"hovertemplate\":\"<b>%{hovertext}</b><br><br>x=%{x}<br>y=%{y}<br>artist=%{customdata[0]}<br>top genre=%{customdata[1]}<extra></extra>\",\"hovertext\":[\"My Happiness\",\"Unchained Melody\",\"How Deep Is Your Love\",\"Woman in Love\",\"Goodbye Yellow Brick Road - Remastered 2014\",\"Grenade\",\"No Time\",\"End Of The Road\",\"Someone Elses Roses\",\"You Belong to My Heart\",\"All Rise\",\"Nikita\",\"Laugh Laugh\",\"What Do You Want\",\"Hey! Baby - Remastered\",\"Cry Like a Baby\",\"One of These Days\",\"Beauty and the Beast - from the Soundtrack \\\"Beauty and the Beast\\\"\",\"Heart Full of Soul\",\"So Sick\",\"Love Of My Life - Remastered 2011\",\"Glory of Love\",\"Fading Like a Flower (Every Time You Leave)\",\"Stay Another Day\",\"Black Christ of the Andes (St. Martin de Porres)\",\"Dancing with Tears in My Eyes\",\"Drinks On The House\",\"Rock Your Baby\",\"I Walk on Guilded Splinters\",\"Pour Some Sugar On Me - Remastered 2017\",\"Party In The U.S.A.\",\"Always Be My Baby\",\"I Will Survive - Extended Version\",\"Hate That I Love You\",\"Can't Help Falling in Love\",\"Ninety-Nine Ways\",\"Angel of Mine - Radio Mix\",\"Telegram Sam\",\"Apologize\",\"Voulez-Vous\",\"The Boss\",\"Because You Loved Me (Theme from \\\"Up Close and Personal\\\")\",\"Take Good Care Of My Baby - 1990 Remastered\",\"Say My Name\",\"Free - Mood II Swing Radio Edit\",\"Lady Writer\",\"Take Good Care Of My Baby - 1990 Remastered\",\"Crank That (Soulja Boy)\",\"Smalltown Boy\",\"Fireflies\",\"Show Me Love\",\"Get A Way\",\"Now That We Found Love\",\"Hard Habit to Break - 2006 Remaster\",\"Hysteria\",\"It All Depends on You\",\"Reelin' In The Years\",\"Butterfingers\",\"Self Control\",\"Hypnotize - 2007 Remaster\",\"End Of The Line\",\"Living Next Door to Alice\",\"I Gotta Feeling\",\"Sh-Boom - Single Version\",\"Your Song\",\"Pony\",\"Let's Get Loud\",\"Baretta's Theme\",\"Let's Fall in Love\",\"No Scrubs\",\"Take Me Home Country Roads\",\"Mr. Blue Sky\",\"Pachuko Hop\",\"Crying\",\"Temperature\",\"Don't Look Back in Anger - Remastered\",\"Ophelia - Remastered 2000\",\"You'll Never Walk Alone\",\"The Ballad of Bonnie & Clyde\",\"Let It Rock\",\"Barabajagal (with Jeff Beck Group)\",\"I Love My Girl\",\"Kids In America\",\"Sheila\",\"Baby Come Back\",\"Heal the World\",\"I Wanna Love You\",\"Peppermint Twist Pt.1\",\"The Old Man's Back Again (Dedicated To The Neo-Stalinist Regime)\",\"Forever Young\",\"Little Things Means A Lot\",\"Cooler Than Me - Single Mix\",\"Bleeding Love\",\"The Game Of Love\",\"Everybody Wants To Rule The World\",\"16 Candles\",\"Puppy Love - Remix\",\"Life in the Fast Lane - 2013 Remaster\",\"The Lady Is A Tramp\",\"Are You Ready For Love? - Remastered\",\"King Of My Castle - Roy Malone's King Mix\",\"Hurts So Good\",\"Pictures of Matchstick Men - Mono Version\",\"Only Because\",\"Over Under Sideways Down - The Mono Album\",\"She'd Rather Be With Me\",\"Better Off Alone\",\"Chicago - Remastered\",\"Alors on danse\",\"Leave The World Behind - Radio Edit\",\"Break Your Heart\",\"Bailando\",\"Don't Stop\",\"Boulder to Birmingham - Remastered\",\"Piu bella cosa\",\"Uptown Girl\",\"Ca' the Yowes\",\"Halo\",\"L-O-V-E\",\"Sorry Seems To Be The Hardest Word\",\"A Thousand Miles Away\",\"Walking in Memphis\",\"Arthur's Theme (Best That You Can Do)\",\"Running Up That Hill (A Deal With God)\",\"You To Me Are Everything\",\"I Feel Love - Edit\",\"Move On Up\",\"Please Forgive Me\",\"Lost in Music\",\"Broken Strings\",\"The Riddle\",\"It's All In The Game\",\"7 Days\",\"Take It Easy - 2013 Remaster\",\"Everybody Loves Somebody\",\"Walkin\\u2019 My Baby Back Home\",\"Be With You\",\"Valerie\",\"The Winner Takes It All\",\"Up Where We Belong - From \\\"An Officer And A Gentleman\\\"\",\"Moviestar\",\"Poetry In Motion\",\"Angels\",\"What the World Needs Now Is Love\",\"Tulips From Amsterdam\",\"If You Ever\",\"Daddy Cool\",\"Radio Ga Ga - 2011 Mix\",\"Lollipop\",\"I Think We're Alone Now\",\"Higher Love - Single Version\",\"My Heart Belongs to Me\",\"Please Don't Go\",\"I'll Be Missing You (feat. 112)\",\"Brothers In Arms\",\"Goin' Back\",\"Waterloo Sunset - Mono Mix\",\"Raindrops\",\"Doctor Doctor - 2007 Remaster\",\"Material Girl\",\"Panama - 2015 Remaster\",\"Every Time You Go Away - Radio Edit\",\"Another One Bites The Dust - Remastered 2011\",\"Knock You Down\",\"Baby I Need Your Loving\",\"Sweet Dreams\",\"The Rhythm of the Night\",\"Dancing With Myself\",\"When the Children Cry\",\"Lose Yourself - From \\\"8 Mile\\\" Soundtrack\",\"Silence Is Golden\",\"Born in the U.S.A.\",\"Immigrant Song - Remaster\",\"Dancing In The Moonlight\",\"Surf City - Remastered 1990/Stereo Remix\",\"Dream A Little Dream Of Me\",\"Fame - Rerecorded\",\"Please Mr. Postman\",\"Pon de Replay\",\"Won't Get Fooled Again - Original Album Version\",\"Boom Boom Pow\",\"Locomotive\",\"We Will Rock You - Remastered\",\"Thank God I Found You\",\"Moving too fast - Radio Edit\",\"This Will Be Our Year\",\"Imagine - Remastered\",\"Bump Bump Bump\",\"TiK ToK\",\"Since You Been Gone\",\"Mamma Mia\",\"You Mean Everything to Me\",\"Impossible - Main\",\"Real Real Gone\",\"Boom Boom Boom Boom!!\",\"Live Wire\",\"Take A Bow\",\"Sweet Caroline\",\"A Song for You\",\"Brandy (You're a Fine Girl)\",\"We Are Never Ever Getting Back Together\",\"Whatever Will Be Will Be (Que Sera Sera) (with Frank DeVol & His Orchestra) - Single Version\",\"Beautiful Girls\",\"Sexy Bitch (feat. Akon) - Extended\",\"American Boy\",\"Love Lockdown\",\"Sacrifice\",\"I Want You\",\"Heaven\",\"Waterloo\",\"Love Comes To Everyone - 2004 Mix\",\"Cold as Ice - 2008 Remaster\",\"Gloria\",\"Sunshine Reggae\",\"Sunny\",\"Seven Days\",\"When the Heartache Is Over\",\"Sailing\",\"A Tear Fell\",\"Let There Be You\",\"If I Give My Heart To You\",\"Freed From Desire\",\"On The Sunny Side Of The Ocean\",\"Fire on the Mountain\",\"I Got Lucky\",\"Mr. Blue\",\"The Shape I'm In - Remastered 2000\",\"Picture Of You\",\"Cheri Cheri Lady\",\"Fix You\",\"Summer Of '69\",\"Kisses Sweeter Than Wine\",\"Flashdance...What a Feeling - Radio Edit\",\"Knowing Me Knowing You\",\"The Scientist\",\"Rhythm Of The Night\",\"Gangsta's Paradise\",\"Gloria - Stereo Version\",\"I'll Be There\",\"Bennie And The Jets - Remastered 2014\",\"Brother Louie\",\"Stronger\",\"Telstar\",\"Nothing's Gonna Change My Love For You\",\"Have You Ever - Radio Edit\",\"Heaven Is a Place on Earth\",\"Superstar\",\"I Have Nothing - Film Version\",\"Ain't No Mountain High Enough\",\"Lonesome Town - 1990 Digital Remaster\",\"Father And Son\",\"My September Love\",\"Happy Days And Lonely Nights\",\"Fat Bottomed Girls - 2011 Remaster\",\"I Know What You Want (feat. Flipmode Squad)\",\"Don't Go Breaking My Heart\",\"Breakeven\",\"Killer Queen - 2011 Mix\",\"Can't Take My Eyes Off You\",\"What A Girl Wants - Eddie Arroyo Dance Radio Edit\",\"Dreams\",\"Come On Eileen\",\"Isfahan\",\"Africa\",\"What Becomes Of The Brokenhearted\",\"Stairway Of Love\",\"You\",\"Indian Reservation (The Lament of the Cherokee Reservation Indian)\",\"Everything I Own\",\"Last Christmas\",\"Friday On My Mind\",\"Doin' It\",\"Let It Be - Remastered 2009\",\"My Spiritual Indian\",\"Pinball Wizard\",\"Return of the Mack\",\"Fantasy\",\"Don't Stop The Music\",\"Rockstar\",\"Detroit Rock City\",\"Please Mr. Postman\",\"Rhythm of the Rain\",\"Something\",\"You Give Love A Bad Name\",\"Bed Of Roses\",\"Where Do Broken Hearts Go\",\"Gasolina\",\"Come Together - Remastered 2009\",\"Runaround\",\"I Knew You Were Waiting (For Me)\",\"I Was Made For Lovin' You\",\"It's Raining Men\",\"Walkin' Back to Happiness\",\"Eye of the Tiger\",\"Bohemian Rhapsody - 2011 Mix\",\"Today\",\"Travelin' Man - Remastered\",\"Surfin' U.S.A. - Remastered\",\"Pump Up The Jam\",\"Guilty (feat. Barry Gibb)\",\"Let Me Love You\",\"L'Amour Toujours\",\"I Want It That Way\",\"Replay\",\"Everybody Needs Somebody To Love - Long Version\",\"Das Boot\",\"Sea Of Love\",\"St. Elmos Fire (Man in Motion)\",\"Both Sides Now\",\"Where Is The Love?\",\"Lucky Star\",\"Come Softly To Me\",\"White Room\",\"Midnight Train to Georgia - Short Version\",\"No Other Love\",\"Outside My Window\",\"Itchycoo Park (Mono Version) - 2012 Remaster\",\"That's What Friends Are For\",\"S.O.S.\",\"Stumblin' In - 2017 Remaster\",\"Everybody's Talkin'\",\"Fergalicious\",\"It's Only Love - 2008 Remaster\",\"Let Your Love Flow\",\"Starman - 2012 Remaster\",\"Rebel Rebel - 2016 Remaster\",\"Che La Luna\",\"Comment te dire adieu - It Hurts to Say Goodbye\",\"All Right\",\"Mr. Vain - Original Radio Edit\",\"I've Waited So Long\",\"The Real Slim Shady\",\"The Boy Is Mine\",\"Spanish Eyes\",\"Everlasting Love\",\"Every Breath You Take\",\"U Remind Me\",\"Here Comes The Sun - Remastered 2009\",\"Tous les gar\\u00e7ons et les filles - Slow\",\"Rock And Roll All Nite\",\"When Love Takes Over (feat. Kelly Rowland)\",\"Snap Yo Fingers\",\"Call on Me - Radio Mix\",\"I'm Gonna Make You Love Me\",\"Gigi\",\"Listen to Your Heart\",\"I Wanna Dance with Somebody (Who Loves Me)\",\"To The Aisle\",\"You Make Me Feel Like Dancing\",\"No Matter What\",\"Are You Really Mine\",\"Lovely Sky Boat\",\"Rubber Ball\",\"Low (feat. T-Pain)\",\"Spending My Time\",\"Hold On My Heart - 2007 Digital Remaster\",\"Sh-Boom (Life Could Be A Dream)\",\"Held for Questioning\",\"Live Your Life (feat. Rihanna)\",\"Ferry Cross the Mersey - Stereo, 1997 Remaster\",\"Maniac\",\"Everybody (Backstreet's Back) - Radio Edit\",\"Hot Diggity\",\"Hey Jude - Remastered 2009\",\"Just the Way You Are\",\"Build Me Up Buttercup\",\"Anyone Of Us (Stupid Mistake)\",\"Ain't Got No Home\",\"Empire State of Mind (Part II) Broken Down\",\"Dreams - 2004 Remaster\",\"Yesterday - Remastered 2009\",\"High\",\"Now And Forever\",\"Lady - Hear Me Tonight\",\"Rocket Man (I Think It's Going To Be A Long Long Time)\",\"Listen to the Music\",\"Hero\",\"The Boys Are Back In Town\",\"Sad Eyes - Remastered\",\"It's Not Right But It's Okay\",\"Ain't That Just the Way\",\"It's A Shame\",\"In Da Club\",\"Love Really Hurts Without You\",\"Save a Prayer - 2009 Remaster\",\"Myself When I Am Real\",\"Rock with You - Single Version\",\"Crush\",\"Let There Be Love - 2002 Digital Remaster\",\"Mr. Soul\",\"You Ain't Seen Nothing Yet\",\"It Takes Two\",\"Zulu Nation Throw Down\",\"Here I Go Again - 2017 Remaster\",\"A Whole New World (Aladdin's Theme)\",\"Last Friday Night (T.G.I.F.)\",\"(I Just) Died In Your Arms\",\"Carolina in the Morning\",\"I Want To Hold Your Hand - Remastered 2015\",\"Yeah! (feat. Lil Jon & Ludacris)\",\"More\",\"I Love Rock 'N Roll\",\"I Know You Want Me (Calle Ocho)\",\"Put Your Head On My Shoulder\",\"Only You\",\"One Tow Step (feat. Missy Elliot)\",\"When I Look Into Your Eyes\",\"Easy Livin'\",\"My Way\",\"Everybody Knows This Is Nowhere - 2009 Remaster\",\"Fly Me To The Moon (In Other Words)\",\"Dynamite\",\"I Will Always Love You - Film Version\",\"Gold\",\"Narcotic - Radio Edit\",\"Papa Don't Preach\",\"Just Got Paid\",\"Who Am I (What's My Name)?\",\"A Milli\",\"Jessie's Girl\",\"Do You Wanna Dance\",\"Love Story\",\"Teardrops On My Guitar - Radio Single Remix\",\"Another Brick In The Wall Pt. 2 - 2011 Remastered Version\",\"Hungry Eyes\",\"Hall of Fame\",\"I Got 5 On It\",\"Numb\",\"Can't You See\",\"Gimme! Gimme! Gimme! (A Man After Midnight)\",\"No Sugar Tonight / New Mother Nature\",\"Lean Back\",\"D\\u00c3\\u00a9senchant\\u00c3\\u00a9e - Radio Edit\",\"Leaving Trunk\",\"Honey\",\"More And More - Single Version\",\"I Knew You Were Trouble.\",\"Blue Monday '88\",\"Sweet Virginia\",\"April Love\",\"Womanizer\",\"Break My Stride\",\"Romeo - 2014 Remaster\",\"I Promised Myself\",\"Needles and Pins - Mono\",\"Only Girl (In The World)\",\"Rag Doll\",\"A World Without Love\",\"But Not For Me\",\"Surf City\",\"Dilemma\",\"It's Gonna Be Me\",\"In The Army Now\"],\"legendgroup\":\"\",\"line\":{\"color\":\"#636efa\",\"dash\":\"solid\"},\"marker\":{\"symbol\":\"circle\"},\"mode\":\"lines\",\"name\":\"\",\"orientation\":\"v\",\"showlegend\":false,\"x\":[0,1,2,3,4,5,6,7,8,9,10,11,12,13,14,15,16,17,18,19,20,21,22,23,24,25,26,27,28,29,30,31,32,33,34,35,36,37,38,39,40,41,42,43,44,45,46,47,48,49,50,51,52,53,54,55,56,57,58,59,60,61,62,63,64,65,66,67,68,69,70,71,72,73,74,75,76,77,78,79,80,81,82,83,84,85,86,87,88,89,90,91,92,93,94,95,96,97,98,99,100,101,102,103,104,105,106,107,108,109,110,111,112,113,114,115,116,117,118,119,120,121,122,123,124,125,126,127,128,129,130,131,132,133,134,135,136,137,138,139,140,141,142,143,144,145,146,147,148,149,150,151,152,153,154,155,156,157,158,159,160,161,162,163,164,165,166,167,168,169,170,171,172,173,174,175,176,177,178,179,180,181,182,183,184,185,186,187,188,189,190,191,192,193,194,195,196,197,198,199,200,201,202,203,204,205,206,207,208,209,210,211,212,213,214,215,216,217,218,219,220,221,222,223,224,225,226,227,228,229,230,231,232,233,234,235,236,237,238,239,240,241,242,243,244,245,246,247,248,249,250,251,252,253,254,255,256,257,258,259,260,261,262,263,264,265,266,267,268,269,270,271,272,273,274,275,276,277,278,279,280,281,282,283,284,285,286,287,288,289,290,291,292,293,294,295,296,297,298,299,300,301,302,303,304,305,306,307,308,309,310,311,312,313,314,315,316,317,318,319,320,321,322,323,324,325,326,327,328,329,330,331,332,333,334,335,336,337,338,339,340,341,342,343,344,345,346,347,348,349,350,351,352,353,354,355,356,357,358,359,360,361,362,363,364,365,366,367,368,369,370,371,372,373,374,375,376,377,378,379,380,381,382,383,384,385,386,387,388,389,390,391,392,393,394,395,396,397,398,399,400,401,402,403,404,405,406,407,408,409,410,411,412,413,414,415,416,417,418,419,420,421,422,423,424,425,426,427,428,429,430,431,432,433,434,435,436,437,438,439,440,441,442,443,444,445,446,447,448,449,450,451,452],\"xaxis\":\"x\",\"y\":[26,26,27,27,28,28,29,30,30,30,30,30,31,31,31,31,32,32,33,33,33,34,34,35,35,35,36,36,36,37,37,37,37,38,38,38,38,38,39,39,39,39,39,40,40,40,40,40,41,41,41,41,41,41,41,41,42,42,42,42,43,43,43,44,44,44,44,44,45,45,45,46,46,46,46,46,46,46,46,46,46,47,47,47,47,48,48,48,48,48,48,49,49,49,49,49,50,50,50,51,51,51,51,51,52,52,52,52,52,53,53,53,53,53,53,53,53,54,54,54,54,54,54,54,54,54,55,55,55,55,55,55,55,55,56,56,56,56,56,56,56,56,56,56,56,56,56,56,56,57,57,57,57,57,57,57,57,58,58,58,58,58,58,58,58,58,59,59,59,59,59,59,59,59,59,59,59,59,60,60,60,60,60,60,60,60,60,60,60,60,60,60,60,61,61,61,61,61,61,61,61,61,61,61,61,61,61,61,62,62,62,62,62,62,62,62,62,62,62,63,63,63,63,63,63,63,63,63,63,63,63,63,63,64,64,64,64,64,64,64,64,64,64,64,65,65,65,65,65,65,65,65,65,65,65,65,65,65,66,66,66,66,66,66,66,66,66,66,66,67,67,67,67,67,67,67,67,67,67,67,67,67,67,67,67,68,68,68,68,68,68,68,68,68,68,68,68,68,68,68,68,68,68,68,69,69,69,69,69,69,69,70,70,70,70,70,70,70,70,70,70,70,70,70,70,70,71,71,71,71,71,71,71,71,71,71,71,71,71,71,72,72,72,72,72,72,72,72,72,72,72,72,72,72,72,73,73,73,73,73,73,73,73,73,73,73,73,73,73,73,73,73,73,73,73,74,74,74,74,74,74,74,74,74,74,74,74,74,74,75,75,75,75,75,75,75,75,75,75,76,76,76,76,76,76,76,76,76,76,77,77,77,77,77,77,77,77,77,77,77,77,78,78,78,78,78,78,78,78,79,79,79,79,79,79,79,79,79,80,80,80,80,80,80,81,81,81,81,82,82,83,83,84],\"yaxis\":\"y\",\"type\":\"scatter\"}],                        {\"template\":{\"data\":{\"bar\":[{\"error_x\":{\"color\":\"#2a3f5f\"},\"error_y\":{\"color\":\"#2a3f5f\"},\"marker\":{\"line\":{\"color\":\"#E5ECF6\",\"width\":0.5},\"pattern\":{\"fillmode\":\"overlay\",\"size\":10,\"solidity\":0.2}},\"type\":\"bar\"}],\"barpolar\":[{\"marker\":{\"line\":{\"color\":\"#E5ECF6\",\"width\":0.5},\"pattern\":{\"fillmode\":\"overlay\",\"size\":10,\"solidity\":0.2}},\"type\":\"barpolar\"}],\"carpet\":[{\"aaxis\":{\"endlinecolor\":\"#2a3f5f\",\"gridcolor\":\"white\",\"linecolor\":\"white\",\"minorgridcolor\":\"white\",\"startlinecolor\":\"#2a3f5f\"},\"baxis\":{\"endlinecolor\":\"#2a3f5f\",\"gridcolor\":\"white\",\"linecolor\":\"white\",\"minorgridcolor\":\"white\",\"startlinecolor\":\"#2a3f5f\"},\"type\":\"carpet\"}],\"choropleth\":[{\"colorbar\":{\"outlinewidth\":0,\"ticks\":\"\"},\"type\":\"choropleth\"}],\"contour\":[{\"colorbar\":{\"outlinewidth\":0,\"ticks\":\"\"},\"colorscale\":[[0.0,\"#0d0887\"],[0.1111111111111111,\"#46039f\"],[0.2222222222222222,\"#7201a8\"],[0.3333333333333333,\"#9c179e\"],[0.4444444444444444,\"#bd3786\"],[0.5555555555555556,\"#d8576b\"],[0.6666666666666666,\"#ed7953\"],[0.7777777777777778,\"#fb9f3a\"],[0.8888888888888888,\"#fdca26\"],[1.0,\"#f0f921\"]],\"type\":\"contour\"}],\"contourcarpet\":[{\"colorbar\":{\"outlinewidth\":0,\"ticks\":\"\"},\"type\":\"contourcarpet\"}],\"heatmap\":[{\"colorbar\":{\"outlinewidth\":0,\"ticks\":\"\"},\"colorscale\":[[0.0,\"#0d0887\"],[0.1111111111111111,\"#46039f\"],[0.2222222222222222,\"#7201a8\"],[0.3333333333333333,\"#9c179e\"],[0.4444444444444444,\"#bd3786\"],[0.5555555555555556,\"#d8576b\"],[0.6666666666666666,\"#ed7953\"],[0.7777777777777778,\"#fb9f3a\"],[0.8888888888888888,\"#fdca26\"],[1.0,\"#f0f921\"]],\"type\":\"heatmap\"}],\"heatmapgl\":[{\"colorbar\":{\"outlinewidth\":0,\"ticks\":\"\"},\"colorscale\":[[0.0,\"#0d0887\"],[0.1111111111111111,\"#46039f\"],[0.2222222222222222,\"#7201a8\"],[0.3333333333333333,\"#9c179e\"],[0.4444444444444444,\"#bd3786\"],[0.5555555555555556,\"#d8576b\"],[0.6666666666666666,\"#ed7953\"],[0.7777777777777778,\"#fb9f3a\"],[0.8888888888888888,\"#fdca26\"],[1.0,\"#f0f921\"]],\"type\":\"heatmapgl\"}],\"histogram\":[{\"marker\":{\"pattern\":{\"fillmode\":\"overlay\",\"size\":10,\"solidity\":0.2}},\"type\":\"histogram\"}],\"histogram2d\":[{\"colorbar\":{\"outlinewidth\":0,\"ticks\":\"\"},\"colorscale\":[[0.0,\"#0d0887\"],[0.1111111111111111,\"#46039f\"],[0.2222222222222222,\"#7201a8\"],[0.3333333333333333,\"#9c179e\"],[0.4444444444444444,\"#bd3786\"],[0.5555555555555556,\"#d8576b\"],[0.6666666666666666,\"#ed7953\"],[0.7777777777777778,\"#fb9f3a\"],[0.8888888888888888,\"#fdca26\"],[1.0,\"#f0f921\"]],\"type\":\"histogram2d\"}],\"histogram2dcontour\":[{\"colorbar\":{\"outlinewidth\":0,\"ticks\":\"\"},\"colorscale\":[[0.0,\"#0d0887\"],[0.1111111111111111,\"#46039f\"],[0.2222222222222222,\"#7201a8\"],[0.3333333333333333,\"#9c179e\"],[0.4444444444444444,\"#bd3786\"],[0.5555555555555556,\"#d8576b\"],[0.6666666666666666,\"#ed7953\"],[0.7777777777777778,\"#fb9f3a\"],[0.8888888888888888,\"#fdca26\"],[1.0,\"#f0f921\"]],\"type\":\"histogram2dcontour\"}],\"mesh3d\":[{\"colorbar\":{\"outlinewidth\":0,\"ticks\":\"\"},\"type\":\"mesh3d\"}],\"parcoords\":[{\"line\":{\"colorbar\":{\"outlinewidth\":0,\"ticks\":\"\"}},\"type\":\"parcoords\"}],\"pie\":[{\"automargin\":true,\"type\":\"pie\"}],\"scatter\":[{\"marker\":{\"colorbar\":{\"outlinewidth\":0,\"ticks\":\"\"}},\"type\":\"scatter\"}],\"scatter3d\":[{\"line\":{\"colorbar\":{\"outlinewidth\":0,\"ticks\":\"\"}},\"marker\":{\"colorbar\":{\"outlinewidth\":0,\"ticks\":\"\"}},\"type\":\"scatter3d\"}],\"scattercarpet\":[{\"marker\":{\"colorbar\":{\"outlinewidth\":0,\"ticks\":\"\"}},\"type\":\"scattercarpet\"}],\"scattergeo\":[{\"marker\":{\"colorbar\":{\"outlinewidth\":0,\"ticks\":\"\"}},\"type\":\"scattergeo\"}],\"scattergl\":[{\"marker\":{\"colorbar\":{\"outlinewidth\":0,\"ticks\":\"\"}},\"type\":\"scattergl\"}],\"scattermapbox\":[{\"marker\":{\"colorbar\":{\"outlinewidth\":0,\"ticks\":\"\"}},\"type\":\"scattermapbox\"}],\"scatterpolar\":[{\"marker\":{\"colorbar\":{\"outlinewidth\":0,\"ticks\":\"\"}},\"type\":\"scatterpolar\"}],\"scatterpolargl\":[{\"marker\":{\"colorbar\":{\"outlinewidth\":0,\"ticks\":\"\"}},\"type\":\"scatterpolargl\"}],\"scatterternary\":[{\"marker\":{\"colorbar\":{\"outlinewidth\":0,\"ticks\":\"\"}},\"type\":\"scatterternary\"}],\"surface\":[{\"colorbar\":{\"outlinewidth\":0,\"ticks\":\"\"},\"colorscale\":[[0.0,\"#0d0887\"],[0.1111111111111111,\"#46039f\"],[0.2222222222222222,\"#7201a8\"],[0.3333333333333333,\"#9c179e\"],[0.4444444444444444,\"#bd3786\"],[0.5555555555555556,\"#d8576b\"],[0.6666666666666666,\"#ed7953\"],[0.7777777777777778,\"#fb9f3a\"],[0.8888888888888888,\"#fdca26\"],[1.0,\"#f0f921\"]],\"type\":\"surface\"}],\"table\":[{\"cells\":{\"fill\":{\"color\":\"#EBF0F8\"},\"line\":{\"color\":\"white\"}},\"header\":{\"fill\":{\"color\":\"#C8D4E3\"},\"line\":{\"color\":\"white\"}},\"type\":\"table\"}]},\"layout\":{\"annotationdefaults\":{\"arrowcolor\":\"#2a3f5f\",\"arrowhead\":0,\"arrowwidth\":1},\"autotypenumbers\":\"strict\",\"coloraxis\":{\"colorbar\":{\"outlinewidth\":0,\"ticks\":\"\"}},\"colorscale\":{\"diverging\":[[0,\"#8e0152\"],[0.1,\"#c51b7d\"],[0.2,\"#de77ae\"],[0.3,\"#f1b6da\"],[0.4,\"#fde0ef\"],[0.5,\"#f7f7f7\"],[0.6,\"#e6f5d0\"],[0.7,\"#b8e186\"],[0.8,\"#7fbc41\"],[0.9,\"#4d9221\"],[1,\"#276419\"]],\"sequential\":[[0.0,\"#0d0887\"],[0.1111111111111111,\"#46039f\"],[0.2222222222222222,\"#7201a8\"],[0.3333333333333333,\"#9c179e\"],[0.4444444444444444,\"#bd3786\"],[0.5555555555555556,\"#d8576b\"],[0.6666666666666666,\"#ed7953\"],[0.7777777777777778,\"#fb9f3a\"],[0.8888888888888888,\"#fdca26\"],[1.0,\"#f0f921\"]],\"sequentialminus\":[[0.0,\"#0d0887\"],[0.1111111111111111,\"#46039f\"],[0.2222222222222222,\"#7201a8\"],[0.3333333333333333,\"#9c179e\"],[0.4444444444444444,\"#bd3786\"],[0.5555555555555556,\"#d8576b\"],[0.6666666666666666,\"#ed7953\"],[0.7777777777777778,\"#fb9f3a\"],[0.8888888888888888,\"#fdca26\"],[1.0,\"#f0f921\"]]},\"colorway\":[\"#636efa\",\"#EF553B\",\"#00cc96\",\"#ab63fa\",\"#FFA15A\",\"#19d3f3\",\"#FF6692\",\"#B6E880\",\"#FF97FF\",\"#FECB52\"],\"font\":{\"color\":\"#2a3f5f\"},\"geo\":{\"bgcolor\":\"white\",\"lakecolor\":\"white\",\"landcolor\":\"#E5ECF6\",\"showlakes\":true,\"showland\":true,\"subunitcolor\":\"white\"},\"hoverlabel\":{\"align\":\"left\"},\"hovermode\":\"closest\",\"mapbox\":{\"style\":\"light\"},\"paper_bgcolor\":\"white\",\"plot_bgcolor\":\"#E5ECF6\",\"polar\":{\"angularaxis\":{\"gridcolor\":\"white\",\"linecolor\":\"white\",\"ticks\":\"\"},\"bgcolor\":\"#E5ECF6\",\"radialaxis\":{\"gridcolor\":\"white\",\"linecolor\":\"white\",\"ticks\":\"\"}},\"scene\":{\"xaxis\":{\"backgroundcolor\":\"#E5ECF6\",\"gridcolor\":\"white\",\"gridwidth\":2,\"linecolor\":\"white\",\"showbackground\":true,\"ticks\":\"\",\"zerolinecolor\":\"white\"},\"yaxis\":{\"backgroundcolor\":\"#E5ECF6\",\"gridcolor\":\"white\",\"gridwidth\":2,\"linecolor\":\"white\",\"showbackground\":true,\"ticks\":\"\",\"zerolinecolor\":\"white\"},\"zaxis\":{\"backgroundcolor\":\"#E5ECF6\",\"gridcolor\":\"white\",\"gridwidth\":2,\"linecolor\":\"white\",\"showbackground\":true,\"ticks\":\"\",\"zerolinecolor\":\"white\"}},\"shapedefaults\":{\"line\":{\"color\":\"#2a3f5f\"}},\"ternary\":{\"aaxis\":{\"gridcolor\":\"white\",\"linecolor\":\"white\",\"ticks\":\"\"},\"baxis\":{\"gridcolor\":\"white\",\"linecolor\":\"white\",\"ticks\":\"\"},\"bgcolor\":\"#E5ECF6\",\"caxis\":{\"gridcolor\":\"white\",\"linecolor\":\"white\",\"ticks\":\"\"}},\"title\":{\"x\":0.05},\"xaxis\":{\"automargin\":true,\"gridcolor\":\"white\",\"linecolor\":\"white\",\"ticks\":\"\",\"title\":{\"standoff\":15},\"zerolinecolor\":\"white\",\"zerolinewidth\":2},\"yaxis\":{\"automargin\":true,\"gridcolor\":\"white\",\"linecolor\":\"white\",\"ticks\":\"\",\"title\":{\"standoff\":15},\"zerolinecolor\":\"white\",\"zerolinewidth\":2}}},\"xaxis\":{\"anchor\":\"y\",\"domain\":[0.0,1.0],\"title\":{\"text\":\"Song index\"}},\"yaxis\":{\"anchor\":\"x\",\"domain\":[0.0,1.0],\"title\":{\"text\":\"pop\"}},\"legend\":{\"tracegroupgap\":0},\"margin\":{\"t\":60},\"title\":{\"text\":\"Popularity sorted\"}},                        {\"responsive\": true}                    ).then(function(){\n",
              "                            \n",
              "var gd = document.getElementById('c6fade4f-4a19-4b11-899c-4d4c31d292c5');\n",
              "var x = new MutationObserver(function (mutations, observer) {{\n",
              "        var display = window.getComputedStyle(gd).display;\n",
              "        if (!display || display === 'none') {{\n",
              "            console.log([gd, 'removed!']);\n",
              "            Plotly.purge(gd);\n",
              "            observer.disconnect();\n",
              "        }}\n",
              "}});\n",
              "\n",
              "// Listen for the removal of the full notebook cells\n",
              "var notebookContainer = gd.closest('#notebook-container');\n",
              "if (notebookContainer) {{\n",
              "    x.observe(notebookContainer, {childList: true});\n",
              "}}\n",
              "\n",
              "// Listen for the clearing of the current output cell\n",
              "var outputEl = gd.closest('.output');\n",
              "if (outputEl) {{\n",
              "    x.observe(outputEl, {childList: true});\n",
              "}}\n",
              "\n",
              "                        })                };                            </script>        </div>\n",
              "</body>\n",
              "</html>"
            ]
          },
          "metadata": {}
        }
      ]
    },
    {
      "cell_type": "markdown",
      "source": [
        "## Correlation"
      ],
      "metadata": {
        "id": "VH7U-7QS-QHg"
      }
    },
    {
      "cell_type": "markdown",
      "source": [
        "By observing the correlation of every feature and its impact on the predictor column ('pop') we can infer the following:\n",
        "\n",
        "1. **nrgy, dur and dB** are **correlated** to the predictor.    \n",
        "2. **acous** is **inversly correlated** to the predictor.\n",
        "3. **val** has the **least correlation** to the predictor.\n"
      ],
      "metadata": {
        "id": "0l-vEVfdA-SI"
      }
    },
    {
      "cell_type": "code",
      "source": [
        "plt.figure(figsize=(10,5))\n",
        "heatmap = sns.heatmap(df_train.drop(['Id'],axis=1).corr(),cmap='YlGnBu', vmin=-1,vmax=1, annot=True)\n",
        "heatmap.set_title('Correlation')\n",
        "plt.show()"
      ],
      "metadata": {
        "colab": {
          "base_uri": "https://localhost:8080/",
          "height": 336
        },
        "id": "IHDL1tNEwZsk",
        "outputId": "442a1650-f7a6-4d23-87ea-a9fd7b37fb17"
      },
      "execution_count": null,
      "outputs": [
        {
          "output_type": "display_data",
          "data": {
            "text/plain": [
              "<Figure size 720x360 with 2 Axes>"
            ],
            "image/png": "[encoded data removed]"
          },
          "metadata": {
            "needs_background": "light"
          }
        }
      ]
    },
    {
      "cell_type": "markdown",
      "source": [
        "# Processing dataset"
      ],
      "metadata": {
        "id": "dmv2BbxDyNIy"
      }
    },
    {
      "cell_type": "markdown",
      "source": [
        "##Dealing with null data"
      ],
      "metadata": {
        "id": "BmIMJprKyVxB"
      }
    },
    {
      "cell_type": "markdown",
      "source": [
        "To take care of the null values that were present only in the categorical column 'top genre', it has been replaced with 'Others'."
      ],
      "metadata": {
        "id": "svIx8WSGCQdE"
      }
    },
    {
      "cell_type": "code",
      "source": [
        "df['top genre'] = df['top genre'].fillna('Others')"
      ],
      "metadata": {
        "id": "H8OOdFxRyZne"
      },
      "execution_count": null,
      "outputs": []
    },
    {
      "cell_type": "markdown",
      "source": [
        "##Dropping features"
      ],
      "metadata": {
        "id": "xJDv3lO3AMK7"
      }
    },
    {
      "cell_type": "markdown",
      "source": [
        "We observed dropping Valence gave better results and it is clearly justified by the fact that it has the least correlation of -0.01 with Popularity (target). Title is always unique to each song and is not useful to predict unseen data, hence this column is dropped."
      ],
      "metadata": {
        "id": "Hic_qnbqClYr"
      }
    },
    {
      "cell_type": "code",
      "source": [
        "X=df.drop(columns=['title','val','pop'])"
      ],
      "metadata": {
        "id": "h7xeyOPkARrd"
      },
      "execution_count": null,
      "outputs": []
    },
    {
      "cell_type": "markdown",
      "source": [
        "## Checking for skewed data"
      ],
      "metadata": {
        "id": "KuxoG038AeLD"
      }
    },
    {
      "cell_type": "markdown",
      "source": [
        "Although the data in columns Live and Duration appear to be skewed, as we are dealing with a relatively small dataset, the skewed data does not impact the overall accuracy of the model."
      ],
      "metadata": {
        "id": "n1jCFtkdDpxt"
      }
    },
    {
      "cell_type": "code",
      "source": [
        "X.drop(['Id'],axis=1).hist(bins=50, figsize=(10,5))\n",
        "plt.show()"
      ],
      "metadata": {
        "colab": {
          "base_uri": "https://localhost:8080/",
          "height": 336
        },
        "id": "na01MFxnAhTQ",
        "outputId": "49da838f-6451-4dcf-94f8-694d4cfe7020"
      },
      "execution_count": null,
      "outputs": [
        {
          "output_type": "display_data",
          "data": {
            "text/plain": [
              "<Figure size 720x360 with 9 Axes>"
            ],
            "image/png": "[encoded data removed]"
          },
          "metadata": {
            "needs_background": "light"
          }
        }
      ]
    },
    {
      "cell_type": "markdown",
      "source": [
        "##Checking for outliers"
      ],
      "metadata": {
        "id": "19VCIDOwA3j9"
      }
    },
    {
      "cell_type": "markdown",
      "source": [
        "Although the data in columns Live, Speechiness and Duration appear to have outliers, as we are dealing with a relatively small dataset, the outliers do not impact the overall accuracy of the model."
      ],
      "metadata": {
        "id": "-aeU7Nn1EXyD"
      }
    },
    {
      "cell_type": "code",
      "source": [
        "X.drop(['Id','year'],axis=1).boxplot(figsize=(10,5))\n",
        "plt.show()"
      ],
      "metadata": {
        "colab": {
          "base_uri": "https://localhost:8080/",
          "height": 320
        },
        "id": "9AfkFvPbA5jd",
        "outputId": "ecffa079-0035-4083-ea03-ddcb862a1220"
      },
      "execution_count": null,
      "outputs": [
        {
          "output_type": "display_data",
          "data": {
            "text/plain": [
              "<Figure size 720x360 with 1 Axes>"
            ],
            "image/png": "[encoded data removed]"
          },
          "metadata": {
            "needs_background": "light"
          }
        }
      ]
    },
    {
      "cell_type": "markdown",
      "source": [
        "##One hot encoding"
      ],
      "metadata": {
        "id": "khSDGHu1BsdM"
      }
    },
    {
      "cell_type": "markdown",
      "source": [
        "The columns with categorical data 'top genre' and 'artist' are nominal. Therefore, these columns are transformed using One Hot Encoding."
      ],
      "metadata": {
        "id": "73fBKhYaE8BC"
      }
    },
    {
      "cell_type": "code",
      "source": [
        "#One Hot encoding of Categorical values of Top Genre\n",
        "genre_onehot = OneHotEncoder(sparse=False)\n",
        "genre_onehotenc = genre_onehot.fit_transform(X[['top genre']])\n",
        "genre_categories = genre_onehot.categories_\n",
        "genre_data= pd.DataFrame(genre_onehotenc)\n",
        "genre_data.columns = genre_categories[0]\n",
        "\n",
        "#One hot encoding of artist data\n",
        "artist_onehot = OneHotEncoder(sparse=False)\n",
        "artist_onehotenc = artist_onehot.fit_transform(X[['artist']])\n",
        "artist_categories = artist_onehot.categories_\n",
        "artist_data= pd.DataFrame(artist_onehotenc)\n",
        "artist_data.columns = artist_categories[0]"
      ],
      "metadata": {
        "id": "XBHi_QRkBvW4"
      },
      "execution_count": null,
      "outputs": []
    },
    {
      "cell_type": "markdown",
      "source": [
        "To reduce the curse of dimensionality, dropping the first column"
      ],
      "metadata": {
        "id": "QS9OlKAoFYJJ"
      }
    },
    {
      "cell_type": "code",
      "source": [
        "genre_data.drop(columns=['Others'], inplace = True)\n",
        "artist_data.drop(columns=[' Wind & Fire'], inplace = True)"
      ],
      "metadata": {
        "id": "jFl3d19GCJcb"
      },
      "execution_count": null,
      "outputs": []
    },
    {
      "cell_type": "code",
      "source": [
        "#Retaining indexes which will be used later on to consolidate the dataset for training\n",
        "genre_data.index = X.index\n",
        "genre_data['Id1']=X ['Id']\n",
        "\n",
        "#Retaining indexes which will be used later on to consolidate the dataset for training\n",
        "artist_data.index = X.index\n",
        "artist_data['Id2']=X ['Id']"
      ],
      "metadata": {
        "id": "mcGNxoaGC0OE"
      },
      "execution_count": null,
      "outputs": []
    },
    {
      "cell_type": "markdown",
      "source": [
        "##Checking the dataset for features to be scaled"
      ],
      "metadata": {
        "id": "CjzhM4UWDVGv"
      }
    },
    {
      "cell_type": "code",
      "source": [
        "#Verifying the data to be scaled\n",
        "print(X.iloc[:3,3:])"
      ],
      "metadata": {
        "colab": {
          "base_uri": "https://localhost:8080/"
        },
        "id": "fLPu2zMoDY1v",
        "outputId": "f38ce1a1-d38f-4519-b3c8-ba1c7cf394d7"
      },
      "execution_count": null,
      "outputs": [
        {
          "output_type": "stream",
          "name": "stdout",
          "text": [
            "   year  bpm  nrgy  dnce  dB  live  dur  acous  spch\n",
            "0  1996  107    31    45  -8    13  150     75     3\n",
            "1  2011  114    44    53  -8    13  139     49     3\n",
            "2  1979  105    36    63  -9    13  245     11     3\n"
          ]
        }
      ]
    },
    {
      "cell_type": "markdown",
      "source": [
        "##Scaling dataset"
      ],
      "metadata": {
        "id": "6lIFCbDkDjUZ"
      }
    },
    {
      "cell_type": "markdown",
      "source": [
        "After having tried Standard Scaler and MiMax Scaler, it was observed that using MinMax Scaler gave better results."
      ],
      "metadata": {
        "id": "5Es2KQfbF6_d"
      }
    },
    {
      "cell_type": "code",
      "source": [
        "X_to_scale = X.iloc[:,3:]\n",
        "X_to_scale\n",
        "from sklearn.preprocessing import MinMaxScaler\n",
        "scaler_minmax = MinMaxScaler()\n",
        "X_scaled_all = pd.DataFrame(scaler_minmax.fit_transform(X_to_scale), columns = X_to_scale.columns)\n",
        "X_scaled_all.head(3)"
      ],
      "metadata": {
        "colab": {
          "base_uri": "https://localhost:8080/",
          "height": 143
        },
        "id": "RajC7HcwDkr4",
        "outputId": "964bf53d-8ba0-437f-8d46-8607a044954b"
      },
      "execution_count": null,
      "outputs": [
        {
          "output_type": "execute_result",
          "data": {
            "text/plain": [
              "       year       bpm      nrgy      dnce        dB      live       dur  \\\n",
              "0  0.689189  0.328467  0.265957  0.346154  0.695652  0.120879  0.125908   \n",
              "1  0.891892  0.379562  0.404255  0.448718  0.695652  0.120879  0.099274   \n",
              "2  0.459459  0.313869  0.319149  0.576923  0.652174  0.120879  0.355932   \n",
              "\n",
              "   acous      spch  \n",
              "0   0.75  0.022222  \n",
              "1   0.49  0.022222  \n",
              "2   0.11  0.022222  "
            ],
            "text/html": [
              "\n",
              "  <div id=\"df-2e39f3a3-90db-4ae2-9426-9b9a5469c6e7\">\n",
              "    <div class=\"colab-df-container\">\n",
              "      <div>\n",
              "<style scoped>\n",
              "    .dataframe tbody tr th:only-of-type {\n",
              "        vertical-align: middle;\n",
              "    }\n",
              "\n",
              "    .dataframe tbody tr th {\n",
              "        vertical-align: top;\n",
              "    }\n",
              "\n",
              "    .dataframe thead th {\n",
              "        text-align: right;\n",
              "    }\n",
              "</style>\n",
              "<table border=\"1\" class=\"dataframe\">\n",
              "  <thead>\n",
              "    <tr style=\"text-align: right;\">\n",
              "      <th></th>\n",
              "      <th>year</th>\n",
              "      <th>bpm</th>\n",
              "      <th>nrgy</th>\n",
              "      <th>dnce</th>\n",
              "      <th>dB</th>\n",
              "      <th>live</th>\n",
              "      <th>dur</th>\n",
              "      <th>acous</th>\n",
              "      <th>spch</th>\n",
              "    </tr>\n",
              "  </thead>\n",
              "  <tbody>\n",
              "    <tr>\n",
              "      <th>0</th>\n",
              "      <td>0.689189</td>\n",
              "      <td>0.328467</td>\n",
              "      <td>0.265957</td>\n",
              "      <td>0.346154</td>\n",
              "      <td>0.695652</td>\n",
              "      <td>0.120879</td>\n",
              "      <td>0.125908</td>\n",
              "      <td>0.75</td>\n",
              "      <td>0.022222</td>\n",
              "    </tr>\n",
              "    <tr>\n",
              "      <th>1</th>\n",
              "      <td>0.891892</td>\n",
              "      <td>0.379562</td>\n",
              "      <td>0.404255</td>\n",
              "      <td>0.448718</td>\n",
              "      <td>0.695652</td>\n",
              "      <td>0.120879</td>\n",
              "      <td>0.099274</td>\n",
              "      <td>0.49</td>\n",
              "      <td>0.022222</td>\n",
              "    </tr>\n",
              "    <tr>\n",
              "      <th>2</th>\n",
              "      <td>0.459459</td>\n",
              "      <td>0.313869</td>\n",
              "      <td>0.319149</td>\n",
              "      <td>0.576923</td>\n",
              "      <td>0.652174</td>\n",
              "      <td>0.120879</td>\n",
              "      <td>0.355932</td>\n",
              "      <td>0.11</td>\n",
              "      <td>0.022222</td>\n",
              "    </tr>\n",
              "  </tbody>\n",
              "</table>\n",
              "</div>\n",
              "      <button class=\"colab-df-convert\" onclick=\"convertToInteractive('df-2e39f3a3-90db-4ae2-9426-9b9a5469c6e7')\"\n",
              "              title=\"Convert this dataframe to an interactive table.\"\n",
              "              style=\"display:none;\">\n",
              "        \n",
              "  <svg xmlns=\"http://www.w3.org/2000/svg\" height=\"24px\"viewBox=\"0 0 24 24\"\n",
              "       width=\"24px\">\n",
              "    <path d=\"M0 0h24v24H0V0z\" fill=\"none\"/>\n",
              "    <path d=\"M18.56 5.44l.94 2.06.94-2.06 2.06-.94-2.06-.94-.94-2.06-.94 2.06-2.06.94zm-11 1L8.5 8.5l.94-2.06 2.06-.94-2.06-.94L8.5 2.5l-.94 2.06-2.06.94zm10 10l.94 2.06.94-2.06 2.06-.94-2.06-.94-.94-2.06-.94 2.06-2.06.94z\"/><path d=\"M17.41 7.96l-1.37-1.37c-.4-.4-.92-.59-1.43-.59-.52 0-1.04.2-1.43.59L10.3 9.45l-7.72 7.72c-.78.78-.78 2.05 0 2.83L4 21.41c.39.39.9.59 1.41.59.51 0 1.02-.2 1.41-.59l7.78-7.78 2.81-2.81c.8-.78.8-2.07 0-2.86zM5.41 20L4 18.59l7.72-7.72 1.47 1.35L5.41 20z\"/>\n",
              "  </svg>\n",
              "      </button>\n",
              "      \n",
              "  <style>\n",
              "    .colab-df-container {\n",
              "      display:flex;\n",
              "      flex-wrap:wrap;\n",
              "      gap: 12px;\n",
              "    }\n",
              "\n",
              "    .colab-df-convert {\n",
              "      background-color: #E8F0FE;\n",
              "      border: none;\n",
              "      border-radius: 50%;\n",
              "      cursor: pointer;\n",
              "      display: none;\n",
              "      fill: #1967D2;\n",
              "      height: 32px;\n",
              "      padding: 0 0 0 0;\n",
              "      width: 32px;\n",
              "    }\n",
              "\n",
              "    .colab-df-convert:hover {\n",
              "      background-color: #E2EBFA;\n",
              "      box-shadow: 0px 1px 2px rgba(60, 64, 67, 0.3), 0px 1px 3px 1px rgba(60, 64, 67, 0.15);\n",
              "      fill: #174EA6;\n",
              "    }\n",
              "\n",
              "    [theme=dark] .colab-df-convert {\n",
              "      background-color: #3B4455;\n",
              "      fill: #D2E3FC;\n",
              "    }\n",
              "\n",
              "    [theme=dark] .colab-df-convert:hover {\n",
              "      background-color: #434B5C;\n",
              "      box-shadow: 0px 1px 3px 1px rgba(0, 0, 0, 0.15);\n",
              "      filter: drop-shadow(0px 1px 2px rgba(0, 0, 0, 0.3));\n",
              "      fill: #FFFFFF;\n",
              "    }\n",
              "  </style>\n",
              "\n",
              "      <script>\n",
              "        const buttonEl =\n",
              "          document.querySelector('#df-2e39f3a3-90db-4ae2-9426-9b9a5469c6e7 button.colab-df-convert');\n",
              "        buttonEl.style.display =\n",
              "          google.colab.kernel.accessAllowed ? 'block' : 'none';\n",
              "\n",
              "        async function convertToInteractive(key) {\n",
              "          const element = document.querySelector('#df-2e39f3a3-90db-4ae2-9426-9b9a5469c6e7');\n",
              "          const dataTable =\n",
              "            await google.colab.kernel.invokeFunction('convertToInteractive',\n",
              "                                                     [key], {});\n",
              "          if (!dataTable) return;\n",
              "\n",
              "          const docLinkHtml = 'Like what you see? Visit the ' +\n",
              "            '<a target=\"_blank\" href=https://colab.research.google.com/notebooks/data_table.ipynb>data table notebook</a>'\n",
              "            + ' to learn more about interactive tables.';\n",
              "          element.innerHTML = '';\n",
              "          dataTable['output_type'] = 'display_data';\n",
              "          await google.colab.output.renderOutput(dataTable, element);\n",
              "          const docLink = document.createElement('div');\n",
              "          docLink.innerHTML = docLinkHtml;\n",
              "          element.appendChild(docLink);\n",
              "        }\n",
              "      </script>\n",
              "    </div>\n",
              "  </div>\n",
              "  "
            ]
          },
          "metadata": {},
          "execution_count": 16
        }
      ]
    },
    {
      "cell_type": "code",
      "source": [
        "#Retaining indexes which will be used later on to consolidate the dataset for training\n",
        "X_scaled_all.index = X.index\n",
        "X_scaled_all['Id']=X ['Id']"
      ],
      "metadata": {
        "id": "fLOFL1okD6Wc"
      },
      "execution_count": null,
      "outputs": []
    },
    {
      "cell_type": "markdown",
      "source": [
        "##Preparing dataset for modeling"
      ],
      "metadata": {
        "id": "y-8XoOk_D_6s"
      }
    },
    {
      "cell_type": "markdown",
      "source": [
        "Merging the scaled and One Hot Encoded columns into a main dataset before we train the model."
      ],
      "metadata": {
        "id": "nLgDuU_FGTci"
      }
    },
    {
      "cell_type": "code",
      "source": [
        "#Merging genre and artist\n",
        "genre_artist=pd.merge(genre_data,artist_data, left_on='Id1', right_on='Id2', how='left').drop('Id2', axis=1)\n",
        "# genre_artist.head(3)"
      ],
      "metadata": {
        "id": "uLolnG9QED2Y"
      },
      "execution_count": null,
      "outputs": []
    },
    {
      "cell_type": "code",
      "source": [
        "#Merging all encoded values and scaled values together\n",
        "X_scaled_1=pd.merge(X_scaled_all, genre_artist, left_on='Id', right_on='Id1', how='left').drop('Id1', axis=1)\n",
        "# X_scaled_1.head(3)"
      ],
      "metadata": {
        "id": "Ydzx5t-rEgCy"
      },
      "execution_count": null,
      "outputs": []
    },
    {
      "cell_type": "markdown",
      "source": [
        "Extracting training and testing data based on the orginal indexes of train and test datasets."
      ],
      "metadata": {
        "id": "q1_mFwIAGuHz"
      }
    },
    {
      "cell_type": "code",
      "source": [
        "X_train=X_scaled_1.iloc[0:453,:]\n",
        "X_test=X_scaled_1.iloc[453:,:]\n",
        "# print('Training data \\n',X_train['Id'].describe()) #ID Min = 1 Max=453 (matches with the original train dataset IDs)\n",
        "# print('Testing data \\n',X_test['Id'].describe()) #ID Min = 454 Max=567  (matches with the original test dataset IDs)"
      ],
      "metadata": {
        "id": "78zHLZKtGJ7R"
      },
      "execution_count": null,
      "outputs": []
    },
    {
      "cell_type": "code",
      "source": [
        "#Dropping ID column as we no longer need it\n",
        "X_train.drop(columns=['Id'], inplace = True)\n",
        "X_test.drop(columns=['Id'], inplace = True)"
      ],
      "metadata": {
        "id": "u8jnnnocGOQM"
      },
      "execution_count": null,
      "outputs": []
    },
    {
      "cell_type": "code",
      "source": [
        "#Selecting our target variable\n",
        "Y = df['pop']\n",
        "# Y.head(3)"
      ],
      "metadata": {
        "id": "0JmX7jHSGRtg"
      },
      "execution_count": null,
      "outputs": []
    },
    {
      "cell_type": "code",
      "source": [
        "#Setting Y Train\n",
        "Y_train = Y.iloc[0:453]\n",
        "Y_train.isna().sum()\n",
        "Y_train = Y_train.astype('int64')\n"
      ],
      "metadata": {
        "id": "J0hHl3IBGTYG"
      },
      "execution_count": null,
      "outputs": []
    },
    {
      "cell_type": "code",
      "source": [
        "#Setting Y Test\n",
        "Y_test = Y.iloc[453:]\n",
        "# Y_test.isna().sum() #Null as we dont know values for this column"
      ],
      "metadata": {
        "id": "DxM3WN60GVEt"
      },
      "execution_count": null,
      "outputs": []
    },
    {
      "cell_type": "code",
      "source": [
        "#Reorder columns\n",
        "cols_at_end = ['year']\n",
        "X_train_adj = X_train[[c for c in X_train if c not in cols_at_end] \n",
        "        + [c for c in cols_at_end if c in X_train]]"
      ],
      "metadata": {
        "id": "Zp_rjxS_Gaiu"
      },
      "execution_count": null,
      "outputs": []
    },
    {
      "cell_type": "code",
      "source": [
        "#Reorder columns\n",
        "cols_at_end = ['year']\n",
        "X_test_adj = X_test[[c for c in X_train if c not in cols_at_end] \n",
        "        + [c for c in cols_at_end if c in X_test]]"
      ],
      "metadata": {
        "id": "dNgWBNlNGhST"
      },
      "execution_count": null,
      "outputs": []
    },
    {
      "cell_type": "markdown",
      "source": [
        "#Building the model"
      ],
      "metadata": {
        "id": "6hhrAHoxGuyg"
      }
    },
    {
      "cell_type": "markdown",
      "source": [
        "We have experimented with multiple regression models such as Linear Regression, Stochastic Gradient Regressor, SVM Regressor and Random Forest Regressor and their individual performances can be seen below along with the performance of using them in a voting regressor. Since there are many predictors that have complex non-linear relation with tha target, linear regression does not perform well. SImilarly, as the presence of outliers can impact the position of decision boundaries which results in a bad performance by the SVM models. Random Forest regressors outperform all of them as they are robust to outliers and noise and are good at modeling non-linear data with a mix of numerical and categorical variables.\n",
        "In terms of the train-test split, due to the relatively small size of the dataset and the presence of several categorical features appearing sparsely, K-fold cross validation did not yield any improvement in performance in comparison with regular train-test split."
      ],
      "metadata": {
        "id": "VD4SawiQHQa8"
      }
    },
    {
      "cell_type": "code",
      "source": [
        "from sklearn.ensemble import VotingRegressor\n",
        "#splitting the train data \n",
        "X_train_s, X_test_s, y_train_s, y_test_s = train_test_split(X_train_adj, Y_train, test_size=0.1, random_state=42)\n",
        "\n",
        "r1 = SGDRegressor(max_iter=1000, tol=1e-3, penalty=None, eta0=0.1)\n",
        "r2 = RandomForestRegressor(n_estimators=30, random_state=1) #optimal value 40\n",
        "r3 = SVR(kernel=\"poly\", degree=2, C=200, epsilon=0.2, gamma=\"scale\") #optimal value C=200, epsilon 0.4\n",
        "model = VotingRegressor([('lr', r1), ('rf', r2), ('r3', r3)])\n",
        "model.fit(X_train_s,y_train_s)\n",
        "pred_values_y = model.predict(X_test_s)\n",
        "lin_msev_y = mean_squared_error(y_test_s, pred_values_y)\n",
        "lin_rmsev_y = np.sqrt(lin_msev_y)\n",
        "print(lin_rmsev_y)\n",
        "\n",
        "r4 = LinearRegression()\n",
        "for clf in (r1, r2, r3, r4,model):\n",
        "    clf.fit(X_train_s, y_train_s)\n",
        "    ypred = clf.predict(X_test_s)\n",
        "    print(clf, np.sqrt(mean_squared_error(y_test_s, ypred)))"
      ],
      "metadata": {
        "colab": {
          "base_uri": "https://localhost:8080/"
        },
        "id": "4QYoCj-MSVJs",
        "outputId": "db528fad-28cf-487a-d6b9-b81d8fd31b5f"
      },
      "execution_count": null,
      "outputs": [
        {
          "output_type": "stream",
          "name": "stdout",
          "text": [
            "10.023741042482078\n",
            "SGDRegressor(eta0=0.1, penalty=None) 11.326822453157236\n",
            "RandomForestRegressor(n_estimators=30, random_state=1) 9.688048566360234\n",
            "SVR(C=200, degree=2, epsilon=0.2, kernel='poly') 11.003130166257453\n",
            "LinearRegression() 206362231519586.88\n",
            "VotingRegressor(estimators=[('lr', SGDRegressor(eta0=0.1, penalty=None)),\n",
            "                            ('rf',\n",
            "                             RandomForestRegressor(n_estimators=30,\n",
            "                                                   random_state=1)),\n",
            "                            ('r3',\n",
            "                             SVR(C=200, degree=2, epsilon=0.2, kernel='poly'))]) 9.966931707849312\n"
          ]
        }
      ]
    },
    {
      "cell_type": "markdown",
      "source": [
        "We have also tried other ensembling techniques such as ADA Boost with base estimator as Random Forest Regressor and Stacking with several models that are theoretically distinct from each other. We got the best results using the stacking approach. This is because each of underlying models work very differently to make predictions and the final meta model is able to learn and combine the predictions of the base models to produce a final very accurate prediction in a range of 9.5 - 9.65."
      ],
      "metadata": {
        "id": "_7ECQvcD8Fyi"
      }
    },
    {
      "cell_type": "code",
      "source": [
        "RFR=RandomForestRegressor(n_estimators=20, random_state=42) # 20 is optimal value\n",
        "RegModel = AdaBoostRegressor(n_estimators=50, base_estimator=RFR ,learning_rate=1)\n",
        "\n",
        "#Creating the model on Training Data\n",
        "AB=RegModel.fit(X_train_s,y_train_s)\n",
        "prediction=AB.predict(X_test_s)\n",
        "ada_mse_y = mean_squared_error(y_test_s, prediction)\n",
        "ada_rmse_y = np.sqrt(ada_mse_y)\n",
        "print('RMSE:',ada_rmse_y)"
      ],
      "metadata": {
        "id": "U8zxFBIgaEt4",
        "colab": {
          "base_uri": "https://localhost:8080/"
        },
        "outputId": "26b8352b-02d1-49ed-be1a-b08564522dbd"
      },
      "execution_count": null,
      "outputs": [
        {
          "output_type": "stream",
          "name": "stdout",
          "text": [
            "RMSE: 9.584985994864006\n"
          ]
        }
      ]
    },
    {
      "cell_type": "markdown",
      "source": [
        "The below model has been trained on the complete training dataset and is used to make predictions on the complete test dataset, the resulting predictions were uploaded to Kaggle."
      ],
      "metadata": {
        "id": "LIkVEEl2FzVv"
      }
    },
    {
      "cell_type": "code",
      "source": [
        "#pred = stacked_model_diff.predict(X_test_adj)\n",
        "estimators = [\n",
        "    ('rf', RandomForestRegressor(n_estimators=40, random_state=42)),\n",
        "    ('gb', GradientBoostingRegressor(random_state=42)),\n",
        "    ('ksv',SVR(kernel=\"poly\", degree=2, C=180, epsilon=0.4, gamma=\"scale\")),\n",
        "    ('lr',LinearRegression())\n",
        "]\n",
        "# Define the stacking ensemble model and the meta model which is LinearRegression in our case\n",
        "stacked_model = StackingRegressor(\n",
        "    estimators=estimators,\n",
        "    final_estimator=LinearRegression()\n",
        ")\n",
        "stacked_model.fit(X_train_adj, Y_train)\n",
        "y_pred_stack = stacked_model.predict(X_train_adj)\n",
        "print(np.sqrt(mean_squared_error(Y_train, y_pred_stack)))\n",
        "pred_x_test_adj = stacked_model.predict(X_test_adj)\n",
        "\n",
        "fig= plt.figure(figsize=(10,5))\n",
        "\n",
        "plt.plot(range(0,X_train_adj.shape[0]),sorted(Y_train), label='Actual Value')\n",
        "plt.plot(sorted(y_pred_stack), label='Predicted')\n",
        "\n",
        "plt.title(\"Prediction\")\n",
        "plt.xlabel(\"Items\")\n",
        "plt.ylabel(\"Popularity\")\n",
        "fig.legend(loc='lower right')\n",
        "plt.show()\n"
      ],
      "metadata": {
        "id": "7595ET2bGwUU",
        "colab": {
          "base_uri": "https://localhost:8080/",
          "height": 376
        },
        "outputId": "f70e1a43-c8bd-4538-93a9-0bddce10b1e6"
      },
      "execution_count": null,
      "outputs": [
        {
          "output_type": "stream",
          "name": "stdout",
          "text": [
            "4.0380934257816055\n"
          ]
        },
        {
          "output_type": "display_data",
          "data": {
            "text/plain": [
              "<Figure size 720x360 with 1 Axes>"
            ],
            "image/png": "[encoded data removed]"
          },
          "metadata": {
            "needs_background": "light"
          }
        }
      ]
    },
    {
      "cell_type": "markdown",
      "source": [
        "In conclusion, for the regression model we stand 8th in the kaggle competition with a score of 7.05367. The RMSE of our model tested on the adjusted Train dataset however in the range of 4.03. This is because of the size of data used for training. The model is not trained on all possible combinations of the encoded values as well as other numerical values. The model is neither underfit nor overfit as observed from the graph above, which lets the model have an upper hand when it is introduced to new data points in any of the columns. "
      ],
      "metadata": {
        "id": "G0fhmUld-dtB"
      }
    }
  ]
}